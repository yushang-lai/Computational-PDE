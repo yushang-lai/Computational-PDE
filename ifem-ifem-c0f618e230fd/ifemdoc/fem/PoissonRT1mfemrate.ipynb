{
 "cells": [
  {
   "cell_type": "markdown",
   "metadata": {},
   "source": [
    "# RT1-P1 Element for Poisson Equation in 2D"
   ]
  },
  {
   "cell_type": "markdown",
   "metadata": {},
   "source": [
    "This example is to show the rate of convergence of the RT1-P1 mixed finite element approximation of the Poisson equation on the unit square:\n",
    "\n",
    "$$- \\nabla (d \\nabla) u = f \\; \\hbox{in } (0,1)^2$$\n",
    "\n",
    "for the following boundary conditions\n",
    "- pure Dirichlet boundary condition: $u = g_D \\text{ on } \\partial \\Omega$.\n",
    "- Pure Neumann boundary condition: $d\\nabla u\\cdot n=g_N \\text{ on } \\partial \\Omega$.\n",
    "- mixed boundary condition: $u=g_D \\text{ on }\\Gamma_D, \\nabla u\\cdot n=g_N \\text{ on }\\Gamma_N.$\n",
    "\n",
    "Find $(\\sigma , u)$ in $H_{g_N,\\Gamma_N}(div,\\Omega)\\times L^2(\\Omega)$ s.t. \n",
    "\n",
    "$$ (d^{-1}\\sigma,\\tau) + (div \\tau, u)  = \\langle \\tau \\cdot n, g_D \\rangle_{\\Gamma_D} \\quad \\forall \\tau \\in H_{0,\\Gamma_N}(div,\\Omega)$$\n",
    "\n",
    "$$ (div \\sigma, v)                =  -(f,v) \\quad \\forall v \\in L^2(\\Omega) $$\n",
    " \n",
    " where \n",
    " \n",
    " $$H_{g,\\Gamma}(div,\\Omega) = \\{\\sigma \\in H(div,\\Omega); \\sigma \\cdot n = g  \\text{ on } \\Gamma \\subset \\partial\\Omega \\}.$$\n",
    "\n",
    " The unknown $\\sigma = d\\nabla u$ is approximated using the incomplete P2 Raviart-Thomas element (RT1) and $u$ by piecewise constant element (P1). The expected convergence rate is 2nd order in H(div) and L2 norm for $\\sigma$ and L2 norm of $u$. \n",
    "\n",
    "**References**\n",
    "See page 12, Table 9.2. Arnold, Douglas N. and Falk, Richard S. and Winther, Ragnar. Geometric decompositions and local bases for spaces of finite element differential forms. Comput. Methods Appl. Mech. Engrg. 198():1660--1672, 2009.\n",
    "\n",
    "**Subroutines**:\n",
    "\n",
    "    - PoissonRT1\n",
    "    - squarePoissonRT1\n",
    "    - mfemPoisson\n",
    "    - PoissonRT1mfemrate\n",
    "    \n",
    "The method is implemented in `PoissonRT1` subroutine and tested in `squarePoissonRT1`. Together with other elements (RT0, BDM1), `mfemPoisson` provides a concise interface to solve Poisson equation in mixed formulation. The RT0-P0 element is tested in `PoissonRT1mfemrate`. This doc is based on `PoissonRT1mfemrate`.    "
   ]
  },
  {
   "cell_type": "markdown",
   "metadata": {},
   "source": [
    "## RT1 Incomplete Quadratic H(div) Element in 2D\n",
    "\n",
    "We explain degree of freedoms and basis functions for RT1 element on a triangle. \n",
    "\n",
    "### Asecond orientation\n",
    "The dofs and basis depends on the orientation of the mesh. We shall use the asecond orientation, i.e., `elem(t,1)< elem(t,2)< elem(t,3)` not the positive orientation. Given an `elem`, the asecond orientation can be constructed by \n",
    "\n",
    "        [elem,bdFlag] = sortelem(elem,bdFlag);  % ascend ordering\n",
    "        \n",
    "Note that `bdFlag` should be sorted as well. \n",
    "\n",
    "The local edge is also asecond `[2 3; 1 3; 1 2]` so that the local orientation is consistent with the global one and thus no need to deal with the sign difference when the positive oritentation is used. Read [Simplicial complex in two dimensions](../mesh/scdoc.html) for more discussion of indexing, ordering and orientation."
   ]
  },
  {
   "cell_type": "code",
   "execution_count": 2,
   "metadata": {},
   "outputs": [
    {
     "data": {
      "image/png": "[encoded data removed]",
      "text/plain": [
       "<IPython.core.display.Image object>"
      ]
     },
     "metadata": {},
     "output_type": "display_data"
    }
   ],
   "source": [
    "node = [1,0; 1,1; 0,0];\n",
    "elem = [1 2 3];\n",
    "edge = [2 3; 1 3; 1 2];\n",
    "figure;\n",
    "subplot(1,2,1)\n",
    "showmesh(node,elem);\n",
    "findnode(node);\n",
    "findedge(node,edge,'all','rotvec');"
   ]
  },
  {
   "cell_type": "markdown",
   "metadata": {},
   "source": [
    "### Local bases of RT1 element\n",
    "\n",
    "Suppose `[i,j]` is the k-th edge. The two dimensional curl is a rotated graident defined as $\\nabla^{\\bot} f = (-\\partial_y f, \\partial _x f).$ For RT0, the basis of this edge along with its divergence are given by\n",
    "\n",
    "$$ \\phi_k = \\lambda_i \\nabla^{\\bot} \\lambda_j - \\lambda_j \\nabla^{\\bot} \\lambda_i. $$\n",
    "\n",
    "For BDM1, one more basis is added on this edge\n",
    "\n",
    "$$ \\psi_k = \\lambda_i \\nabla^{\\bot} \\lambda_j + \\lambda_j \\nabla^{\\bot} \\lambda_i. $$\n",
    "\n",
    "For RT1, two more bases are added to the triangle. Suppose $i,j,k$ are the vertices of the triangle and $i<j<k$. The two bases are\n",
    "\n",
    "$$ \\chi_1 = \\lambda_j\\phi _{ik} = \\lambda_j(\\lambda_i\\nabla^{\\bot} \\lambda_k -\n",
    "\\lambda_k\\nabla^{\\bot}\\lambda_i),\\quad\n",
    "   \\chi_2 = \\lambda_k\\phi _{ij} = \\lambda_k(\\lambda_i\\nabla^{\\bot} \\lambda_j -\n",
    "\\lambda_j\\nabla^{\\bot}\\lambda_i).$$\n",
    "\n",
    "Inside one triangle, we order the local bases in the following way: \n",
    "\n",
    "$$\\{\\phi_1,~\\,\\phi_2,~\\,\\phi_3,~\\,\\psi_1,~\\,\\psi_2,~\\, \\psi_3, ~\\, \\chi_1, ~\\, \\chi_2\\}.$$\n",
    "\n",
    "Note that $RT_0 \\subset BDM_1 \\subset RT_1$.\n",
    "\n",
    "The first 3 dual bases are the line integral over orientated edges\n",
    "\n",
    "$$d_i^{\\phi}(u) = \\int_{e_i} u \\cdot n_i \\, ds,$$\n",
    "\n",
    "and the second 3 dual bases are\n",
    "\n",
    "$$d_{ij}^{\\psi}(u) = 3 \\int_{e_{i, j}} \\boldsymbol{u} \\cdot \\boldsymbol{n}_{i, j}\\left(\\lambda_{i}-\\lambda_{j}\\right) \\, ds,$$\n",
    "\n",
    "where $n_i = t_i^{\\bot}$ is the rotation of the unit tangential vector of $e_i$ by $90^{\\deg}$ counterclockwise. Note that both the bases and the dual bases depend on the orientation of the edge not necessiliarly couterclockwise.\n",
    "\n",
    "It is straightforward to verify the \"orthogonality\":\n",
    "$$d^{\\phi}(\\psi) = 0, \\quad d^{\\psi}(\\phi) = 0, \\quad d_i^{\\phi}(\\phi_j) = \\delta_{ij}, \\quad  d_i^{\\psi}(\\psi_j) = \\delta_{ij}.$$\n",
    "\n",
    "But it is diffcult to find the \"orthogonal\" dual basis for $\\chi_1,\\chi_2$. One choice is $$l_f^1(u) := \\int_{T} u\\cdot n_{ik}\\, dx, \\quad l_f^2(u) := \\int_{T} u\\cdot n_{ij}\\, dx.$$ Then $l_f(\\phi) \\neq 0, l_f(\\psi) \\neq 0$. The good news is $d_e^{\\phi}(\\chi) = d_e^{\\psi}(\\chi) = 0$ as $\\lambda_k\\phi _{ij}\\cdot n_e = 0$ either $\\lambda_k|e = 0$ or $\\phi_{ij}\\cdot n_e = 0$. \n",
    "\n",
    "We need to solve a small system to get the coefficients for bases $\\chi$. Fortunately this has been done in quadratic H(curl) element. More precisely, suppose $$u=\\sum \\alpha_{i} \\phi_{i}+\\sum \\beta_{j} \\psi_{j}+\\sum \\gamma_{k} x_{k}$$\n",
    "\n",
    "The interpolation is implemented in `faceinterpolate`."
   ]
  },
  {
   "cell_type": "markdown",
   "metadata": {},
   "source": [
    "### Local to global index map\n",
    "\n",
    "Three local edges are `locEdge = [2 3; 1 3; 1 2]`. The pointer from the local to global index can be constructured by\n",
    "\n",
    "    [elem2edge,edge] = dofedge(elem);"
   ]
  },
  {
   "cell_type": "code",
   "execution_count": 3,
   "metadata": {},
   "outputs": [
    {
     "name": "stdout",
     "output_type": "stream",
     "text": [
      "\n",
      "elem2edge =\n",
      "\n",
      "  8�3 uint32 matrix\n",
      "\n",
      "    8    3    2\n",
      "   11    6    5\n",
      "   15   10    9\n",
      "   16   13   12\n",
      "    5    3    1\n",
      "    7    6    4\n",
      "   12   10    8\n",
      "   14   13   11\n",
      "\n"
     ]
    },
    {
     "data": {
      "image/png": "[encoded data removed]",
      "text/plain": [
       "<IPython.core.display.Image object>"
      ]
     },
     "metadata": {},
     "output_type": "display_data"
    }
   ],
   "source": [
    "[node,elem] = squaremesh([0 1 0 1], 0.5);\n",
    "bdFlag = setboundary(node,elem,'Dirichlet');\n",
    "[elem,bdFlag] = sortelem(elem,bdFlag);\n",
    "showmesh(node,elem);\n",
    "findnode(node);\n",
    "findelem(node,elem);\n",
    "[elem2edge,edge] = dofedge(elem);\n",
    "findedge(node,edge,'all','rotvec');\n",
    "display(elem2edge);"
   ]
  },
  {
   "cell_type": "markdown",
   "metadata": {},
   "source": [
    "## Assembling the matrix equation\n",
    "\n",
    "We discuss several issues in the assembling.\n",
    "\n",
    "### Mass matrix\n",
    "\n",
    "The mass matrix can be computed by\n",
    "\n",
    "    M = getmassmatvec(elem2edge,area,Dlambda,'RT1');"
   ]
  },
  {
   "cell_type": "code",
   "execution_count": null,
   "metadata": {
    "collapsed": true
   },
   "outputs": [],
   "source": []
  }
 ],
 "metadata": {
  "kernelspec": {
   "display_name": "Matlab",
   "language": "matlab",
   "name": "matlab"
  },
  "language_info": {
   "codemirror_mode": "octave",
   "file_extension": ".m",
   "help_links": [
    {
     "text": "MetaKernel Magics",
     "url": "https://github.com/calysto/metakernel/blob/master/metakernel/magics/README.md"
    }
   ],
   "mimetype": "text/x-matlab",
   "name": "matlab",
   "version": "0.14.3"
  },
  "toc": {
   "colors": {
    "hover_highlight": "#DAA520",
    "navigate_num": "#000000",
    "navigate_text": "#333333",
    "running_highlight": "#FF0000",
    "selected_highlight": "#FFD700",
    "sidebar_border": "#EEEEEE",
    "wrapper_background": "#FFFFFF"
   },
   "moveMenuLeft": true,
   "nav_menu": {
    "height": "138px",
    "width": "252px"
   },
   "navigate_menu": true,
   "number_sections": true,
   "sideBar": true,
   "threshold": 4,
   "toc_cell": false,
   "toc_section_display": "block",
   "toc_window_display": false,
   "widenNotebook": false
  }
 },
 "nbformat": 4,
 "nbformat_minor": 2
}
